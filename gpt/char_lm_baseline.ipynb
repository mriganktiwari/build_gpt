{
 "cells": [
  {
   "cell_type": "code",
   "execution_count": 1,
   "id": "1ecc6963",
   "metadata": {},
   "outputs": [],
   "source": [
    "import torch\n",
    "import torch.nn as nn\n",
    "import torch.nn.functional as F"
   ]
  },
  {
   "cell_type": "code",
   "execution_count": 10,
   "id": "475b58f4",
   "metadata": {},
   "outputs": [],
   "source": [
    "shakespeare = open('input.txt', 'r').read()"
   ]
  },
  {
   "cell_type": "code",
   "execution_count": 11,
   "id": "6300da71",
   "metadata": {},
   "outputs": [
    {
     "data": {
      "text/plain": [
       "65"
      ]
     },
     "execution_count": 11,
     "metadata": {},
     "output_type": "execute_result"
    }
   ],
   "source": [
    "vocab = sorted(list(set(''.join(shakespeare))))\n",
    "vocab_size = len(vocab)\n",
    "vocab_size"
   ]
  },
  {
   "cell_type": "code",
   "execution_count": 14,
   "id": "e63bb908",
   "metadata": {},
   "outputs": [
    {
     "data": {
      "text/plain": [
       "\"\\n !$&',-.3:;?ABCDEFGHIJKLMNOPQRSTUVWXYZabcdefghijklmnopqrstuvwxyz\""
      ]
     },
     "execution_count": 14,
     "metadata": {},
     "output_type": "execute_result"
    }
   ],
   "source": [
    "''.join(vocab)"
   ]
  },
  {
   "cell_type": "code",
   "execution_count": 24,
   "id": "e157714e",
   "metadata": {},
   "outputs": [
    {
     "data": {
      "text/plain": [
       "'Hello there'"
      ]
     },
     "execution_count": 24,
     "metadata": {},
     "output_type": "execute_result"
    }
   ],
   "source": [
    "stoi = {ch:i for i,ch in enumerate(vocab)}\n",
    "itos = {i:ch for ch,i in stoi.items()}\n",
    "\n",
    "encode = lambda text: [stoi[ch] for ch in text]\n",
    "decode = lambda idx: ''.join([itos[i] for i in idx])\n",
    "\n",
    "decode(encode('Hello there')) # test encode-decode functionality"
   ]
  },
  {
   "cell_type": "code",
   "execution_count": null,
   "id": "ec99fe02",
   "metadata": {},
   "outputs": [
    {
     "name": "stdout",
     "output_type": "stream",
     "text": [
      "1115394\n",
      "1115394\n"
     ]
    }
   ],
   "source": [
    "print(len(shakespeare))\n",
    "encoded_text = encode(shakespeare)\n",
    "print(len(encoded_text))\n",
    "\n",
    "n = int(len(encoded_text) * 0.9)\n",
    "train_data = encoded_text[:n]\n",
    "val_data = encoded_text[n:]"
   ]
  },
  {
   "cell_type": "code",
   "execution_count": 83,
   "id": "5dd1467b",
   "metadata": {},
   "outputs": [],
   "source": [
    "block_size = 8"
   ]
  },
  {
   "cell_type": "code",
   "execution_count": 84,
   "id": "724d27e8",
   "metadata": {},
   "outputs": [
    {
     "data": {
      "text/plain": [
       "[18, 47, 56, 57, 58, 1, 15, 47, 58]"
      ]
     },
     "execution_count": 84,
     "metadata": {},
     "output_type": "execute_result"
    }
   ],
   "source": [
    "train_data[:block_size + 1]"
   ]
  },
  {
   "cell_type": "code",
   "execution_count": 85,
   "id": "6ed37fb3",
   "metadata": {},
   "outputs": [
    {
     "name": "stdout",
     "output_type": "stream",
     "text": [
      "[18] --> 47\n",
      "[18, 47] --> 56\n",
      "[18, 47, 56] --> 57\n",
      "[18, 47, 56, 57] --> 58\n",
      "[18, 47, 56, 57, 58] --> 1\n",
      "[18, 47, 56, 57, 58, 1] --> 15\n",
      "[18, 47, 56, 57, 58, 1, 15] --> 47\n",
      "[18, 47, 56, 57, 58, 1, 15, 47] --> 58\n"
     ]
    }
   ],
   "source": [
    "# look at how inputs - output pairs look like with a given block_size\n",
    "\n",
    "x = train_data[:block_size + 1]\n",
    "for i in range(1, block_size+1):\n",
    "    inp = x[:i]\n",
    "    output = x[i]\n",
    "    print(f'{inp} --> {output}')"
   ]
  },
  {
   "cell_type": "code",
   "execution_count": 87,
   "id": "b4bb6de0",
   "metadata": {},
   "outputs": [],
   "source": [
    "torch.manual_seed(2)\n",
    "\n",
    "# making a batch of data\n",
    "batch_size = 4\n",
    "block_size = 8\n",
    "\n",
    "def get_batch(split):\n",
    "    data = train_data if split == 'train' else val_data\n",
    "    ix = torch.randint(0, len(train_data) - block_size, (batch_size,))\n",
    "\n",
    "    x = torch.tensor([train_data[i : i + block_size] for i in ix])\n",
    "    y = torch.tensor([train_data[i+1 : i + 1 + block_size] for i in ix])\n",
    "\n",
    "    return x, y"
   ]
  },
  {
   "cell_type": "code",
   "execution_count": 101,
   "id": "202601f5",
   "metadata": {},
   "outputs": [
    {
     "name": "stdout",
     "output_type": "stream",
     "text": [
      "tensor([[47, 51,  6,  0, 13, 57,  1, 46],\n",
      "        [60, 43,  1, 51, 39, 42, 43,  1],\n",
      "        [ 1, 42, 53,  1, 51, 47, 57, 58],\n",
      "        [53, 50, 42,  1, 40, 50, 53, 53]])\n",
      "tensor([[51,  6,  0, 13, 57,  1, 46, 43],\n",
      "        [43,  1, 51, 39, 42, 43,  1, 45],\n",
      "        [42, 53,  1, 51, 47, 57, 58, 39],\n",
      "        [50, 42,  1, 40, 50, 53, 53, 42]])\n"
     ]
    }
   ],
   "source": [
    "xb, yb = get_batch('train')\n",
    "\n",
    "print(xb)\n",
    "print(yb)"
   ]
  },
  {
   "cell_type": "code",
   "execution_count": 102,
   "id": "73472322",
   "metadata": {},
   "outputs": [
    {
     "name": "stdout",
     "output_type": "stream",
     "text": [
      "tensor([47]) --> 51\n",
      "tensor([47, 51]) --> 6\n",
      "tensor([47, 51,  6]) --> 0\n",
      "tensor([47, 51,  6,  0]) --> 13\n",
      "tensor([47, 51,  6,  0, 13]) --> 57\n",
      "tensor([47, 51,  6,  0, 13, 57]) --> 1\n",
      "tensor([47, 51,  6,  0, 13, 57,  1]) --> 46\n",
      "tensor([47, 51,  6,  0, 13, 57,  1, 46]) --> 43\n"
     ]
    }
   ],
   "source": [
    "for b in range(batch_size):\n",
    "    for t in range(block_size):\n",
    "        inp = xb[b, : t+1]\n",
    "        out = yb[b, t]\n",
    "        print(f'{inp} --> {out}')\n",
    "    break"
   ]
  },
  {
   "cell_type": "code",
   "execution_count": 233,
   "id": "8d4e090a",
   "metadata": {},
   "outputs": [],
   "source": [
    "# torch.ones(2,4,8)[:,-1:,:].shape"
   ]
  },
  {
   "cell_type": "code",
   "execution_count": 247,
   "id": "83a45436",
   "metadata": {},
   "outputs": [],
   "source": [
    "class BigramLM(nn.Module):\n",
    "    def __init__(self, vocab_size):\n",
    "        super().__init__()\n",
    "        self.token_encoding_table = nn.Embedding(vocab_size, vocab_size)\n",
    "    \n",
    "    def forward(self, x, targets = None):\n",
    "        # x shape       - (b, t)\n",
    "        # targets shape - (b, t)\n",
    "        logits = self.token_encoding_table(x) # (b, t, vocab_size)\n",
    "        \n",
    "        if targets is None:\n",
    "            loss = None\n",
    "        else:\n",
    "            # B,T,C = logits.shape\n",
    "            loss = F.cross_entropy(logits.transpose(-1,-2), targets)\n",
    "        \n",
    "        return logits, loss\n",
    "    \n",
    "    def generate(self, idx, max_new_tokens):\n",
    "        # idx is (b, t)\n",
    "        for _ in range(max_new_tokens):\n",
    "            logits, loss = self(idx) # (b, t, vocab_size)\n",
    "            logits = logits[:, -1, :] # (b, vocab_size)\n",
    "            probs = F.softmax(logits, dim=-1) # (b, vocab_size)\n",
    "            idx_next = torch.multinomial(probs, num_samples=1) # (b, 1)\n",
    "            idx = torch.cat((idx, idx_next), dim=1) # (b, t+1)\n",
    "        return idx\n"
   ]
  },
  {
   "cell_type": "code",
   "execution_count": 279,
   "id": "6c5b0258",
   "metadata": {},
   "outputs": [],
   "source": [
    "bigram_model = BigramLM(vocab_size)\n",
    "\n",
    "xb, yb = get_batch('train')\n",
    "\n",
    "# logits, loss = bigram_model(xb, yb)\n",
    "# logits.shape, loss.item()"
   ]
  },
  {
   "cell_type": "code",
   "execution_count": 280,
   "id": "55b24fa3",
   "metadata": {},
   "outputs": [
    {
     "name": "stdout",
     "output_type": "stream",
     "text": [
      "\n",
      ":!UYJOro,:MAcBrF!fsi3a:wnveh'FN-c YBFwC VOrZ3lvBk$!jmv&v;yt'.IIy?F$Fy'?h'VwC$Sd$ ;a;RNPROEzPRESTQ;A3\n"
     ]
    }
   ],
   "source": [
    "idx = torch.zeros((1,1), dtype=torch.long)\n",
    "print(decode(bigram_model.generate(idx, max_new_tokens=100)[0].tolist()))"
   ]
  },
  {
   "cell_type": "code",
   "execution_count": 281,
   "id": "8e76359d",
   "metadata": {},
   "outputs": [],
   "source": [
    "# optimizer\n",
    "optimizer = torch.optim.AdamW(bigram_model.parameters(), lr=1e-3)"
   ]
  },
  {
   "cell_type": "code",
   "execution_count": 282,
   "id": "a6075bdb",
   "metadata": {},
   "outputs": [
    {
     "name": "stdout",
     "output_type": "stream",
     "text": [
      "2.5395166873931885\n"
     ]
    }
   ],
   "source": [
    "# training\n",
    "batch_size = 32\n",
    "for _ in range(10000):\n",
    "    xb, yb = get_batch('train')\n",
    "\n",
    "    logits, loss = bigram_model(xb, yb)\n",
    "    \n",
    "    optimizer.zero_grad(set_to_none=True)\n",
    "    loss.backward()\n",
    "    optimizer.step()\n",
    "print(loss.item())"
   ]
  },
  {
   "cell_type": "code",
   "execution_count": 283,
   "id": "7e2a4dc2",
   "metadata": {},
   "outputs": [
    {
     "name": "stdout",
     "output_type": "stream",
     "text": [
      "\n",
      "LBEDeame ghy, cthemaiandsth wesinomy ind;\n",
      "Derg th tanistowat broshin se ate.\n",
      "BRDY: d haseche are,\n",
      "' sha theale ay ndrdiopou checreeo sthe ifeaus, bre.\n",
      "Gofo cous tr nerim s\n",
      "\n",
      "ARETofovil, asu he?\n",
      "Whoft?\n",
      "uant quthind t,\n",
      "Th th letourthanchousirs f ANowousgre d t?\n",
      "Hay wind omayo, impon my che?\n",
      "HENCapangeef s IClelise fe chisthise asthicoulis y a IZorenoou.\n",
      "Beanos, Fower llveriz.\n",
      "LIAy d:\n",
      "As maleun:\n",
      "Hacethatheetrusthieend t thauery! cee ndaze cho y thelgal t hen r akim he, owom!\n",
      "GRI bo,\n",
      "Sapin mon thayor\n"
     ]
    }
   ],
   "source": [
    "idx = torch.zeros((1,1), dtype=torch.long)\n",
    "print(decode(bigram_model.generate(idx, max_new_tokens=500)[0].tolist()))"
   ]
  },
  {
   "cell_type": "code",
   "execution_count": null,
   "id": "3d383a92",
   "metadata": {},
   "outputs": [],
   "source": []
  }
 ],
 "metadata": {
  "kernelspec": {
   "display_name": "torch",
   "language": "python",
   "name": "python3"
  },
  "language_info": {
   "codemirror_mode": {
    "name": "ipython",
    "version": 3
   },
   "file_extension": ".py",
   "mimetype": "text/x-python",
   "name": "python",
   "nbconvert_exporter": "python",
   "pygments_lexer": "ipython3",
   "version": "3.13.5"
  }
 },
 "nbformat": 4,
 "nbformat_minor": 5
}
