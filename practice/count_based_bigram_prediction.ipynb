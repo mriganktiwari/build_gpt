{
 "cells": [
  {
   "cell_type": "code",
   "execution_count": 1,
   "id": "c5551de8",
   "metadata": {},
   "outputs": [],
   "source": [
    "import seaborn as sns\n",
    "import numpy as np\n",
    "import pandas as pd\n",
    "import torch"
   ]
  },
  {
   "cell_type": "code",
   "execution_count": 2,
   "id": "1209fd57",
   "metadata": {},
   "outputs": [],
   "source": [
    "words = open('names.txt', 'r').read().splitlines()"
   ]
  },
  {
   "cell_type": "code",
   "execution_count": 3,
   "id": "a89e34ab",
   "metadata": {},
   "outputs": [
    {
     "data": {
      "text/plain": [
       "(2, 15, 32033)"
      ]
     },
     "execution_count": 3,
     "metadata": {},
     "output_type": "execute_result"
    }
   ],
   "source": [
    "# minimum and maximum length of names in file\n",
    "min([len(w) for w in words]), max([len(w) for w in words]), len(words)"
   ]
  },
  {
   "cell_type": "code",
   "execution_count": 4,
   "id": "cf490eee",
   "metadata": {},
   "outputs": [
    {
     "data": {
      "text/plain": [
       "['emma', 'olivia', 'ava', 'isabella', 'sophia']"
      ]
     },
     "execution_count": 4,
     "metadata": {},
     "output_type": "execute_result"
    }
   ],
   "source": [
    "words[:5]"
   ]
  },
  {
   "cell_type": "markdown",
   "id": "66afe618",
   "metadata": {},
   "source": [
    "- As we plan to do next char prediction\n",
    "- one word goes as input, the next should be output\n",
    "- Every word must be starting & ending with a identifier\n",
    "- We can do distinct identifiers for both or same\n",
    "- [\\S, e, m, m, a, \\E] be the chars\n",
    "- Also, [., e, m, m, a, .] ca be possible\n",
    "\n",
    "### Let's look at how the input-output pairs would look like"
   ]
  },
  {
   "cell_type": "code",
   "execution_count": 5,
   "id": "6d089fe2",
   "metadata": {},
   "outputs": [
    {
     "name": "stdout",
     "output_type": "stream",
     "text": [
      ". -> e\n",
      "e -> m\n",
      "m -> m\n",
      "m -> a\n",
      "a -> .\n"
     ]
    }
   ],
   "source": [
    "for w in words[:3]:\n",
    "    list_w = list('.' + w + '.')\n",
    "    # print(''.join(list_w))\n",
    "    for ch1, ch2 in zip(list_w[:-1], list_w[1:]):\n",
    "        print(f'{ch1} -> {ch2}')\n",
    "    break"
   ]
  },
  {
   "cell_type": "markdown",
   "id": "ca5ce88f",
   "metadata": {},
   "source": [
    "- So our generative model:\n",
    "- starts with an initial input `'.'`, which shoul trigger name generation\n",
    "- and shall continue generating unless another `'.'` char is generated"
   ]
  },
  {
   "cell_type": "markdown",
   "id": "e3300ecf",
   "metadata": {},
   "source": [
    "### Counting bi-grams in the data"
   ]
  },
  {
   "cell_type": "code",
   "execution_count": 6,
   "id": "84a257ce",
   "metadata": {},
   "outputs": [],
   "source": [
    "count_dict = {}\n",
    "for w in words:\n",
    "    chars = list('.' + w + '.')\n",
    "    for ch1, ch2 in zip(chars[:-1], chars[1:]):\n",
    "        bigram = (ch1, ch2)\n",
    "        count_dict[bigram] = count_dict.get(bigram, 0) + 1"
   ]
  },
  {
   "cell_type": "code",
   "execution_count": 7,
   "id": "e4c695bc",
   "metadata": {},
   "outputs": [
    {
     "data": {
      "text/plain": [
       "[(('n', '.'), 6763),\n",
       " (('a', '.'), 6640),\n",
       " (('a', 'n'), 5438),\n",
       " (('.', 'a'), 4410),\n",
       " (('e', '.'), 3983)]"
      ]
     },
     "execution_count": 7,
     "metadata": {},
     "output_type": "execute_result"
    }
   ],
   "source": [
    "# we can look at most or least occuring bigrams in the data: by sorting count_dict\n",
    "\n",
    "# sorted(count_dict.items()) # sorts on the first items, i.e. keys (the bigram pairs)\n",
    "sorted_counts = sorted(count_dict.items(), key=lambda kv: -kv[1])\n",
    "sorted_counts[:5]"
   ]
  },
  {
   "cell_type": "markdown",
   "id": "91507cb5",
   "metadata": {},
   "source": [
    "- For predicting next char based on a char\n",
    "- On basis of counts\n",
    "- We can store bigram counts in a 2-d array\n",
    "- `row` will denote input char\n",
    "- `col` will be prob of predicted char\n",
    "- In our case, size of array would be 27x27\n",
    "- coz, vocab constitutes: 26 alphabets + ',' = 27"
   ]
  },
  {
   "cell_type": "code",
   "execution_count": 8,
   "id": "7b34d828",
   "metadata": {},
   "outputs": [],
   "source": [
    "import torch"
   ]
  },
  {
   "cell_type": "code",
   "execution_count": 9,
   "id": "09635954",
   "metadata": {},
   "outputs": [],
   "source": [
    "vocab = ['.'] + sorted(list(set(''.join(words))))\n",
    "vocab_size = len(vocab)\n",
    "\n",
    "# mapping from char to integer, to fill the matrix\n",
    "stoi = {ch: i for i,ch in enumerate(vocab)}\n",
    "\n",
    "# inverse map, to decode while generation\n",
    "itos = {i: ch for ch,i in stoi.items()}"
   ]
  },
  {
   "cell_type": "code",
   "execution_count": 10,
   "id": "9f49f89b",
   "metadata": {},
   "outputs": [
    {
     "data": {
      "text/plain": [
       "torch.Size([27, 27])"
      ]
     },
     "execution_count": 10,
     "metadata": {},
     "output_type": "execute_result"
    }
   ],
   "source": [
    "N = torch.zeros((vocab_size, vocab_size), dtype=torch.int)\n",
    "N.shape"
   ]
  },
  {
   "cell_type": "code",
   "execution_count": 11,
   "id": "d890f424",
   "metadata": {},
   "outputs": [],
   "source": [
    "# lets fill the matrix now\n",
    "N = torch.zeros((vocab_size, vocab_size), dtype=torch.int)\n",
    "\n",
    "for w in words:\n",
    "    chs = ['.'] + list(w) + ['.']\n",
    "    for ch1, ch2 in zip(chs, chs[1:]):\n",
    "        ix1, ix2 = stoi[ch1], stoi[ch2]\n",
    "        N[ix1, ix2] += 1"
   ]
  },
  {
   "cell_type": "code",
   "execution_count": 12,
   "id": "29aa1d28",
   "metadata": {},
   "outputs": [],
   "source": [
    "import matplotlib.pyplot as plt"
   ]
  },
  {
   "cell_type": "code",
   "execution_count": 13,
   "id": "7245f0cf",
   "metadata": {},
   "outputs": [
    {
     "data": {
      "text/plain": [
       "<matplotlib.image.AxesImage at 0x127301df0>"
      ]
     },
     "execution_count": 13,
     "metadata": {},
     "output_type": "execute_result"
    },
    {
     "data": {
      "image/png": "[encoded data removed]",
      "text/plain": [
       "<Figure size 640x480 with 1 Axes>"
      ]
     },
     "metadata": {},
     "output_type": "display_data"
    }
   ],
   "source": [
    "plt.imshow(N, cmap='Blues')"
   ]
  },
  {
   "cell_type": "markdown",
   "id": "a37c4fa1",
   "metadata": {},
   "source": [
    "#### visualizing the count matrix"
   ]
  },
  {
   "cell_type": "code",
   "execution_count": 14,
   "id": "2c398942",
   "metadata": {},
   "outputs": [],
   "source": [
    "annot = np.empty_like(N, dtype=object)\n",
    "for i in range(27):\n",
    "    for j in range(27):\n",
    "        annot[i,j] = f'{itos[i]}-{itos[j]}\\n{N[i,j]}'"
   ]
  },
  {
   "cell_type": "code",
   "execution_count": 1,
   "id": "f60ac22c",
   "metadata": {},
   "outputs": [
    {
     "ename": "NameError",
     "evalue": "name 'pd' is not defined",
     "output_type": "error",
     "traceback": [
      "\u001b[31m---------------------------------------------------------------------------\u001b[39m",
      "\u001b[31mNameError\u001b[39m                                 Traceback (most recent call last)",
      "\u001b[36mCell\u001b[39m\u001b[36m \u001b[39m\u001b[32mIn[1]\u001b[39m\u001b[32m, line 1\u001b[39m\n\u001b[32m----> \u001b[39m\u001b[32m1\u001b[39m df = \u001b[43mpd\u001b[49m.DataFrame(N, index=stoi.keys(), columns=stoi.keys())\n\u001b[32m      3\u001b[39m plt.figure(figsize=(\u001b[32m18\u001b[39m,\u001b[32m16\u001b[39m))\n\u001b[32m      4\u001b[39m sns.heatmap(df, annot=annot, fmt=\u001b[33m\"\u001b[39m\u001b[33m\"\u001b[39m, cmap=\u001b[33m'\u001b[39m\u001b[33mBlues\u001b[39m\u001b[33m'\u001b[39m, cbar=\u001b[38;5;28;01mTrue\u001b[39;00m, square=\u001b[38;5;28;01mTrue\u001b[39;00m)\n",
      "\u001b[31mNameError\u001b[39m: name 'pd' is not defined"
     ]
    }
   ],
   "source": [
    "df = pd.DataFrame(N, index=stoi.keys(), columns=stoi.keys())\n",
    "\n",
    "plt.figure(figsize=(18,16))\n",
    "sns.heatmap(df, annot=annot, fmt=\"\", cmap='Blues', cbar=True, square=True)\n",
    "\n",
    "# plt.xticks(rotation=90)\n",
    "plt.yticks(rotation=0)\n",
    "plt.tight_layout()\n",
    "plt.show()"
   ]
  },
  {
   "cell_type": "markdown",
   "id": "5ef32502",
   "metadata": {},
   "source": [
    "- In above image, a count means: 'a-.' = 6640\n",
    "- Shows, in out data, 6640 times a has been the last char\n",
    "\n",
    "#### Now we should figure out how to sample and generate from this matrix"
   ]
  },
  {
   "cell_type": "markdown",
   "id": "9088f436",
   "metadata": {},
   "source": [
    "### Sampling\n",
    "- to sample we need some kind of **probability distribution**\n",
    "- we can convert these counts into prob distribution\n",
    "- by converting to proportions along a `row`\n",
    "- along a `row` - coz, at any instance we need to see what is the highest probability char to occur given current char"
   ]
  },
  {
   "cell_type": "code",
   "execution_count": 16,
   "id": "01da2514",
   "metadata": {},
   "outputs": [],
   "source": [
    "P = N / N.sum(dim=1, keepdim=True)"
   ]
  },
  {
   "cell_type": "code",
   "execution_count": 17,
   "id": "0e266081",
   "metadata": {},
   "outputs": [
    {
     "data": {
      "text/plain": [
       "tensor([0.0000, 0.1377, 0.0408, 0.0481, 0.0528, 0.0478, 0.0130, 0.0209, 0.0273,\n",
       "        0.0184, 0.0756, 0.0925, 0.0491, 0.0792, 0.0358, 0.0123, 0.0161, 0.0029,\n",
       "        0.0512, 0.0642, 0.0408, 0.0024, 0.0117, 0.0096, 0.0042, 0.0167, 0.0290])"
      ]
     },
     "execution_count": 17,
     "metadata": {},
     "output_type": "execute_result"
    }
   ],
   "source": [
    "P[0]"
   ]
  },
  {
   "cell_type": "markdown",
   "id": "8441e760",
   "metadata": {},
   "source": [
    "- we can call this prob matrix as distribution learned by counting\n",
    "- now let's see how can we sample from the learned prob. matrix"
   ]
  },
  {
   "cell_type": "code",
   "execution_count": 18,
   "id": "c7be9b36",
   "metadata": {},
   "outputs": [
    {
     "data": {
      "text/plain": [
       "tensor([18])"
      ]
     },
     "execution_count": 18,
     "metadata": {},
     "output_type": "execute_result"
    }
   ],
   "source": [
    "torch.multinomial(P[0], 1, replacement=True)"
   ]
  },
  {
   "cell_type": "markdown",
   "id": "9c4c6e67",
   "metadata": {},
   "source": [
    "- from prob distribution `P[0]`\n",
    "- num of indices will be sampled in the probabilities given by that tensor\n",
    "- If we sample enough times, we'll find that occurences are happening as per the probabilities"
   ]
  },
  {
   "cell_type": "code",
   "execution_count": 19,
   "id": "087c4450",
   "metadata": {},
   "outputs": [
    {
     "name": "stdout",
     "output_type": "stream",
     "text": [
      "cexze.\n",
      "momasurailezitynn.\n",
      "konimittain.\n",
      "llayn.\n",
      "ka.\n",
      "da.\n",
      "staiyaubrtthrigotai.\n",
      "moliellavo.\n",
      "ke.\n",
      "teda.\n"
     ]
    }
   ],
   "source": [
    "g = torch.Generator().manual_seed(2147483647)\n",
    "\n",
    "for _ in range(10):\n",
    "    ix = 0\n",
    "    word = []\n",
    "    while True:\n",
    "        p = P[ix]\n",
    "        ix = torch.multinomial(p, 1, replacement=True, generator=g).item()\n",
    "        word.append(itos[ix])\n",
    "        if ix == 0:\n",
    "            break\n",
    "    print(''.join(word))"
   ]
  },
  {
   "cell_type": "markdown",
   "id": "fc1ff490",
   "metadata": {},
   "source": [
    "#### Are we doing any better than randomly sampling out of a uniform distribution for every current char\n",
    "- Means, prob distribution is uniform\n",
    "- 1./27 for every row"
   ]
  },
  {
   "cell_type": "code",
   "execution_count": 20,
   "id": "5495746b",
   "metadata": {},
   "outputs": [
    {
     "name": "stdout",
     "output_type": "stream",
     "text": [
      "cexzm.\n",
      "zoglkurkicqzktyhwmvmzimjttainrlkfukzkktda.\n",
      "sfcxvpubjtbhrmgotzx.\n",
      "iczixqctvujkwptedogkkjemkmmsidguenkbvgynywftbspmhwcivgbvtahlvsu.\n",
      "dsdxxblnwglhpyiw.\n",
      "igwnjwrpfdwipkwzkm.\n",
      "desu.\n",
      "firmt.\n",
      "gbiksjbquabsvoth.\n",
      "kuysxqevhcmrbxmcwyhrrjenvxmvpfkmwmghfvjzxobomysox.\n"
     ]
    }
   ],
   "source": [
    "g = torch.Generator().manual_seed(2147483647)\n",
    "\n",
    "for _ in range(10):\n",
    "    ix = 0\n",
    "    word = []\n",
    "    while True:\n",
    "        # p = P[ix]\n",
    "        p = torch.ones(27) / 27\n",
    "        ix = torch.multinomial(p, 1, replacement=True, generator=g).item()\n",
    "        word.append(itos[ix])\n",
    "        if ix == 0:\n",
    "            break\n",
    "    print(''.join(word))"
   ]
  },
  {
   "cell_type": "markdown",
   "id": "2d76a630",
   "metadata": {},
   "source": [
    "### I think our count based sampling method, is somewhat better than the random baseline generations"
   ]
  },
  {
   "cell_type": "markdown",
   "id": "ee0f527c",
   "metadata": {},
   "source": [
    "----"
   ]
  },
  {
   "cell_type": "markdown",
   "id": "2db2b48a",
   "metadata": {},
   "source": [
    "## Evaluating performance - Summarize QUALITY of the model in SINGLE NUMBER\n",
    "- maximising likelihood of the dataset\n",
    "- maximizing product of all bigram probabilities -> also called **likelihood**\n",
    "- maximizing sum of log of all bigram probabilities -> **log-likelihood**\n",
    "- coz, all probs are b/w 0-1, logs are negative numbers, therefore, the sum of all is also negative\n",
    "- Therefore, we MINIMIZE **negative log-likelihood**\n",
    "\n",
    "## Maximizing likelihood == Minimizing negative log-likelihood"
   ]
  },
  {
   "cell_type": "code",
   "execution_count": 21,
   "id": "95ea0313",
   "metadata": {},
   "outputs": [
    {
     "name": "stdout",
     "output_type": "stream",
     "text": [
      "log-likelihood = -559891.75\n",
      "Negative log-likelihood = 2.45409\n"
     ]
    }
   ],
   "source": [
    "log_likelihood = 0\n",
    "n = 0 # used to normalize the nll\n",
    "\n",
    "for w in words:\n",
    "    chs = ['.']+list(w)+['.']\n",
    "    for ch1, ch2 in zip(chs, chs[1:]):\n",
    "        ix1, ix2 = stoi[ch1], stoi[ch2]\n",
    "        n += 1\n",
    "        prob = P[ix1,ix2]\n",
    "        logprob = torch.log(prob)\n",
    "        # print(f'{ch1}{ch2}:: prob = {prob:.5f} | log-prob = {logprob:.5f}')\n",
    "        log_likelihood += logprob\n",
    "\n",
    "nll = - log_likelihood / n\n",
    "print(f'log-likelihood = {log_likelihood}')\n",
    "print(f'Negative log-likelihood = {nll:.5f}')"
   ]
  },
  {
   "cell_type": "code",
   "execution_count": 22,
   "id": "54efbbe3",
   "metadata": {},
   "outputs": [
    {
     "name": "stdout",
     "output_type": "stream",
     "text": [
      "nll=tensor(inf)\n"
     ]
    }
   ],
   "source": [
    "# calculating likelihood of a word\n",
    "n=0\n",
    "log_likelihood = 0\n",
    "\n",
    "chs = ['.'] + list('mrigankq') + ['.']\n",
    "for ch1, ch2 in zip(chs, chs[1:]):\n",
    "    ix1, ix2 = stoi[ch1], stoi[ch2]\n",
    "    n += 1\n",
    "    prob = P[ix1,ix2]\n",
    "    logprob = torch.log(prob)\n",
    "    # print(f'{ch1}{ch2}:: prob = {prob:.5f} | log-prob = {logprob:.5f}')\n",
    "    log_likelihood += logprob\n",
    "nll = -log_likelihood / n\n",
    "print(f'{nll=}')"
   ]
  },
  {
   "cell_type": "code",
   "execution_count": null,
   "id": "4b67b535",
   "metadata": {},
   "outputs": [],
   "source": []
  }
 ],
 "metadata": {
  "kernelspec": {
   "display_name": "torch",
   "language": "python",
   "name": "python3"
  },
  "language_info": {
   "codemirror_mode": {
    "name": "ipython",
    "version": 3
   },
   "file_extension": ".py",
   "mimetype": "text/x-python",
   "name": "python",
   "nbconvert_exporter": "python",
   "pygments_lexer": "ipython3",
   "version": "3.13.5"
  }
 },
 "nbformat": 4,
 "nbformat_minor": 5
}
