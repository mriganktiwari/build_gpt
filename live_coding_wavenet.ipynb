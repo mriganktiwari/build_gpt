{
 "cells": [
  {
   "cell_type": "code",
   "execution_count": 1,
   "id": "25e82f4c",
   "metadata": {},
   "outputs": [],
   "source": [
    "import torch\n",
    "import torch.nn.functional as F\n",
    "\n",
    "import matplotlib.pyplot as plt"
   ]
  },
  {
   "cell_type": "markdown",
   "id": "a320e97a",
   "metadata": {},
   "source": [
    "# Build data"
   ]
  },
  {
   "cell_type": "code",
   "execution_count": 2,
   "id": "9854b1b6",
   "metadata": {},
   "outputs": [],
   "source": [
    "words = open('names.txt', 'r').read().split()"
   ]
  },
  {
   "cell_type": "code",
   "execution_count": 3,
   "id": "d7e4f281",
   "metadata": {},
   "outputs": [],
   "source": [
    "vocab = sorted(list(set(''.join(words))) + ['.'])\n",
    "vocab_size = len(vocab)\n",
    "\n",
    "stoi = {ch: i for i, ch in enumerate(vocab)}\n",
    "itos = {i: ch for ch, i in stoi.items()}"
   ]
  },
  {
   "cell_type": "code",
   "execution_count": 107,
   "id": "07de6c76",
   "metadata": {},
   "outputs": [],
   "source": [
    "block_size = 8"
   ]
  },
  {
   "cell_type": "code",
   "execution_count": 108,
   "id": "314d6b51",
   "metadata": {},
   "outputs": [
    {
     "name": "stdout",
     "output_type": "stream",
     "text": [
      "torch.Size([182441, 8]) torch.Size([182441])\n",
      "torch.Size([22902, 8]) torch.Size([22902])\n",
      "torch.Size([22803, 8]) torch.Size([22803])\n"
     ]
    }
   ],
   "source": [
    "def build_dataset(words, bs = block_size):\n",
    "    X, y = [], []\n",
    "\n",
    "    for w in words:\n",
    "        # print(w)\n",
    "        context = [0] * bs\n",
    "        for ch in w + '.':\n",
    "            ix = stoi[ch]\n",
    "            X.append(context)\n",
    "            y.append(ix)\n",
    "            # print(''.join(itos[i] for i in context), '-->', itos[ix] )\n",
    "            context = context[1:] + [ix]\n",
    "\n",
    "    X = torch.tensor(X)\n",
    "    y = torch.tensor(y)\n",
    "    print(X.shape, y.shape)\n",
    "    return X,y\n",
    "\n",
    "import random\n",
    "random.seed(42)\n",
    "random.shuffle(words)\n",
    "n1 = int(len(words)*0.8)\n",
    "n2 = int(len(words)*0.9)\n",
    "\n",
    "Xtr,ytr = build_dataset(words[:n1], block_size)\n",
    "Xdev,ydev = build_dataset(words[n1:n2], block_size)\n",
    "Xte,yte = build_dataset(words[n2:], block_size)"
   ]
  },
  {
   "cell_type": "code",
   "execution_count": 109,
   "id": "8b54487c",
   "metadata": {},
   "outputs": [
    {
     "name": "stdout",
     "output_type": "stream",
     "text": [
      "........ --> e\n",
      ".......e --> l\n",
      "......el --> i\n",
      ".....eli --> a\n",
      "....elia --> n\n",
      "...elian --> y\n",
      "..eliany --> s\n",
      ".elianys --> .\n",
      "........ --> t\n",
      ".......t --> r\n",
      "......tr --> o\n",
      ".....tro --> y\n",
      "....troy --> .\n",
      "........ --> m\n",
      ".......m --> a\n"
     ]
    }
   ],
   "source": [
    "for x,y in zip(Xtr[:15], ytr[:15]):\n",
    "    print(''.join([itos[i] for i in x.tolist()]), \"-->\", itos[y.item()])"
   ]
  },
  {
   "cell_type": "markdown",
   "id": "5bf1d5eb",
   "metadata": {},
   "source": [
    "# Model"
   ]
  },
  {
   "cell_type": "code",
   "execution_count": 110,
   "id": "52957bd9",
   "metadata": {},
   "outputs": [],
   "source": [
    "class Embedding:\n",
    "    def __init__(self, num_embeddings, embedding_dim):\n",
    "        self.weight = torch.randn(num_embeddings, embedding_dim)\n",
    "\n",
    "    def __call__(self, IX):\n",
    "        self.out = self.weight[IX]\n",
    "        return self.out\n",
    "    \n",
    "    def parameters(self):\n",
    "        return [self.weight]\n",
    "\n",
    "class Flatten:\n",
    "    def __call__(self, x):\n",
    "        self.out = x.view(x.shape[0], -1) # flattens all dimensions\n",
    "        return self.out\n",
    "    \n",
    "    def parameters(self):\n",
    "        return []\n",
    "\n",
    "class Linear:\n",
    "    def __init__(self, fan_in, fan_out, bias=True):\n",
    "        self.weight = torch.randn((fan_in, fan_out)) / fan_in**0.5\n",
    "        self.bias = torch.zeros(fan_out) if bias else None\n",
    "    \n",
    "    def __call__(self, x):\n",
    "        self.out = x @ self.weight\n",
    "        if self.bias is not None:\n",
    "            self.out += self.bias\n",
    "        return self.out\n",
    "    \n",
    "    def parameters(self):\n",
    "        return [self.weight] + ([] if self.bias is None else [self.bias])\n",
    "\n",
    "class Tanh:\n",
    "    def __call__(self, x):\n",
    "        self.out = torch.tanh(x)\n",
    "        return self.out\n",
    "\n",
    "    def parameters(self):\n",
    "        return []\n",
    "\n",
    "class BatchNorm1d:\n",
    "    def __init__(self, dim, epsilon=1e-5, momentum=0.1):\n",
    "        self.dim = dim\n",
    "        self.epsilon = epsilon\n",
    "        self.training = True\n",
    "        self.momentum = momentum\n",
    "\n",
    "        self.gamma = torch.ones(self.dim)\n",
    "        self.beta = torch.zeros(self.dim)\n",
    "\n",
    "        self.running_mean = torch.zeros(dim)\n",
    "        self.running_var = torch.ones(dim)\n",
    "\n",
    "    def __call__(self, x):\n",
    "        if self.training:\n",
    "            xmean = x.mean(0, keepdim=True)\n",
    "            xvar = x.var(0, keepdim=True)\n",
    "            with torch.no_grad():\n",
    "                self.running_mean = (1-self.momentum) * self.running_mean + self.momentum * xmean\n",
    "                self.running_var = (1-self.momentum) * self.running_var + self.momentum * xvar\n",
    "        else:\n",
    "            xmean = self.running_mean\n",
    "            xvar = self.running_var\n",
    "\n",
    "        hpreact = (x-xmean) / torch.sqrt(xvar + self.epsilon)\n",
    "        self.out = self.gamma * hpreact + self.beta\n",
    "\n",
    "        return self.out\n",
    "    \n",
    "    def parameters(self):\n",
    "        return [self.gamma, self.beta]\n",
    "\n",
    "# Let's simplify out layers into model : by PyTorch Containers\n",
    "class Sequential:\n",
    "    def __init__(self, layers):\n",
    "        self.layers = layers\n",
    "\n",
    "    def __call__(self, x):\n",
    "        for layer in self.layers:\n",
    "            x = layer(x)\n",
    "        self.out = x\n",
    "        return self.out\n",
    "\n",
    "    def parameters(self):\n",
    "        return [p for layer in self.layers for p in layer.parameters()]"
   ]
  },
  {
   "cell_type": "code",
   "execution_count": 111,
   "id": "1a2f33e6",
   "metadata": {},
   "outputs": [],
   "source": [
    "emb_dim = 10\n",
    "n_hidden = 100\n",
    "batch_size = 64"
   ]
  },
  {
   "cell_type": "code",
   "execution_count": 112,
   "id": "69a45dbc",
   "metadata": {},
   "outputs": [
    {
     "name": "stdout",
     "output_type": "stream",
     "text": [
      "21597 parameters in the model\n"
     ]
    }
   ],
   "source": [
    "model = Sequential([\n",
    "    Embedding(vocab_size, emb_dim),\n",
    "    Flatten(),\n",
    "    Linear(block_size*emb_dim, n_hidden), BatchNorm1d(n_hidden), Tanh(),\n",
    "    Linear(n_hidden, n_hidden), BatchNorm1d(n_hidden), Tanh(),\n",
    "    Linear(n_hidden, vocab_size),\n",
    "])\n",
    "\n",
    "with torch.no_grad():\n",
    "    for l in model.layers[:-1]:\n",
    "        if isinstance(l, Linear):\n",
    "            l.weight *= (5/3)\n",
    " \n",
    "    model.layers[-1].weight *= 0.1\n",
    "\n",
    "parameters = model.parameters() #[p for l in layers for p in l.parameters()]\n",
    "print(sum(p.numel() for p in parameters), 'parameters in the model')\n",
    "\n",
    "for p in parameters:\n",
    "    p.requires_grad = True"
   ]
  },
  {
   "cell_type": "code",
   "execution_count": 75,
   "id": "6e3ec523",
   "metadata": {},
   "outputs": [
    {
     "name": "stdout",
     "output_type": "stream",
     "text": [
      "Iteration 0 | loss = 3.3018\n"
     ]
    }
   ],
   "source": [
    "lossi = []\n",
    "for i in range(200000):\n",
    "    # mini-batch construct\n",
    "    ix = torch.randint(0, Xtr.shape[0], size=(batch_size,))\n",
    "    Xb, yb = Xtr[ix], ytr[ix]\n",
    "\n",
    "    logits = model(Xb)\n",
    "\n",
    "    loss = F.cross_entropy(logits, yb)\n",
    "    lossi.append(loss.item())\n",
    "\n",
    "    if i % 20000 == 0 or i == 0:\n",
    "        print(f'Iteration {i} | loss = {loss.item():.4f}')\n",
    "\n",
    "    for p in parameters:\n",
    "        p.grad = None\n",
    "\n",
    "    loss.backward()\n",
    "\n",
    "    # updates\n",
    "    lr = 0.1 if i < 100000 else 0.01\n",
    "    for p in parameters:\n",
    "        p.data += -(lr * p.grad)\n",
    "    break"
   ]
  },
  {
   "cell_type": "code",
   "execution_count": 59,
   "id": "edd15633",
   "metadata": {},
   "outputs": [],
   "source": [
    "# plt.plot(torch.tensor(lossi).view(-1,1000).mean(1));"
   ]
  },
  {
   "cell_type": "code",
   "execution_count": 60,
   "id": "52a681bf",
   "metadata": {},
   "outputs": [],
   "source": [
    "for layer in model.layers:\n",
    "    layer.training = False"
   ]
  },
  {
   "cell_type": "code",
   "execution_count": 61,
   "id": "07a92c01",
   "metadata": {},
   "outputs": [
    {
     "name": "stdout",
     "output_type": "stream",
     "text": [
      "loss for train set: 1.9973578453063965\n",
      "loss for dev set: 2.0978403091430664\n"
     ]
    }
   ],
   "source": [
    "# evaluate loss\n",
    "\n",
    "@torch.no_grad()\n",
    "def split_loss(split):\n",
    "    x,y = {'train': (Xtr, ytr),\n",
    "           'dev':   (Xdev, ydev),\n",
    "           'test':  (Xte, yte)}[split]\n",
    "    logits = model(x)\n",
    "    loss = F.cross_entropy(logits, y)\n",
    "    print(f'loss for {split} set: {loss.item()}')\n",
    "\n",
    "split_loss('train')\n",
    "split_loss('dev')"
   ]
  },
  {
   "cell_type": "code",
   "execution_count": 65,
   "id": "afa77bf0",
   "metadata": {},
   "outputs": [
    {
     "name": "stdout",
     "output_type": "stream",
     "text": [
      "savyush.\n",
      "thikaa.\n",
      "camisidena.\n",
      "dany.\n",
      "hazitayli.\n"
     ]
    }
   ],
   "source": [
    "# let's sample names\n",
    "\n",
    "for _ in range(5):\n",
    "    out = []\n",
    "    context = [0] * block_size\n",
    "    while True:\n",
    "        logits = model(torch.tensor([context]))\n",
    "        probs = F.softmax(logits, dim=1)\n",
    "\n",
    "        ix = torch.multinomial(probs, num_samples=1, replacement=True).item()\n",
    "\n",
    "        context = context[1:] + [ix]\n",
    "        out.append(itos[ix])\n",
    "        if ix == 0:\n",
    "            break\n",
    "    print(''.join(out))"
   ]
  },
  {
   "cell_type": "markdown",
   "id": "0b30c33a",
   "metadata": {},
   "source": [
    "# Wavenet model"
   ]
  },
  {
   "cell_type": "code",
   "execution_count": 68,
   "id": "7d061b3d",
   "metadata": {},
   "outputs": [
    {
     "data": {
      "text/plain": [
       "torch.Size([8, 100])"
      ]
     },
     "execution_count": 68,
     "metadata": {},
     "output_type": "execute_result"
    }
   ],
   "source": [
    "# batched matrix mulitply\n",
    "\n",
    "((torch.rand(8,10)) @ (torch.rand(10,100)) + torch.randn(100)).shape"
   ]
  },
  {
   "cell_type": "code",
   "execution_count": 67,
   "id": "5c41d17e",
   "metadata": {},
   "outputs": [
    {
     "data": {
      "text/plain": [
       "torch.Size([8, 4, 100])"
      ]
     },
     "execution_count": 67,
     "metadata": {},
     "output_type": "execute_result"
    }
   ],
   "source": [
    "((torch.rand(8, 4, 10)) @ (torch.rand(10,100)) + torch.randn(100)).shape"
   ]
  },
  {
   "attachments": {
    "image.png": {
     "image/png": "[encoded data removed]"
    }
   },
   "cell_type": "markdown",
   "id": "b3f9bd0d",
   "metadata": {},
   "source": [
    "![image.png](attachment:image.png)"
   ]
  },
  {
   "cell_type": "code",
   "execution_count": 88,
   "id": "2ebdb978",
   "metadata": {},
   "outputs": [
    {
     "name": "stdout",
     "output_type": "stream",
     "text": [
      "torch.Size([146, 8]) torch.Size([146])\n"
     ]
    }
   ],
   "source": [
    "block_size = 8\n",
    "X,y = build_dataset(words=words[:20], bs=block_size)"
   ]
  },
  {
   "cell_type": "code",
   "execution_count": 89,
   "id": "71bb9bfa",
   "metadata": {},
   "outputs": [],
   "source": [
    "# # (64,3,27)\n",
    "# for layer in model.layers:\n",
    "#     print(f'shape from       {layer.__class__.__name__} :   {layer.out.shape}')"
   ]
  },
  {
   "cell_type": "code",
   "execution_count": 92,
   "id": "90dcafeb",
   "metadata": {},
   "outputs": [
    {
     "name": "stdout",
     "output_type": "stream",
     "text": [
      "21597 parameters in the model\n"
     ]
    }
   ],
   "source": [
    "model = Sequential([\n",
    "    Embedding(vocab_size, emb_dim),\n",
    "    Flatten(),\n",
    "    Linear(block_size*emb_dim, n_hidden), BatchNorm1d(n_hidden), Tanh(),\n",
    "    Linear(n_hidden, n_hidden), BatchNorm1d(n_hidden), Tanh(),\n",
    "    Linear(n_hidden, vocab_size),\n",
    "])\n",
    "\n",
    "with torch.no_grad():\n",
    "    for l in model.layers[:-1]:\n",
    "        if isinstance(l, Linear):\n",
    "            l.weight *= (5/3)\n",
    " \n",
    "    model.layers[-1].weight *= 0.1\n",
    "\n",
    "parameters = model.parameters() #[p for l in layers for p in l.parameters()]\n",
    "print(sum(p.numel() for p in parameters), 'parameters in the model')\n",
    "\n",
    "for p in parameters:\n",
    "    p.requires_grad = True"
   ]
  },
  {
   "cell_type": "code",
   "execution_count": 93,
   "id": "f960724d",
   "metadata": {},
   "outputs": [
    {
     "data": {
      "text/plain": [
       "torch.Size([4, 8])"
      ]
     },
     "execution_count": 93,
     "metadata": {},
     "output_type": "execute_result"
    }
   ],
   "source": [
    "ix = torch.randint(0, X.shape[0], (4,))\n",
    "xb,yb = X[ix], y[ix]\n",
    "# x.shape, y.shape\n",
    "logits = model(xb)\n",
    "\n",
    "xb.shape"
   ]
  },
  {
   "cell_type": "code",
   "execution_count": 103,
   "id": "c8ce884d",
   "metadata": {},
   "outputs": [
    {
     "data": {
      "text/plain": [
       "(torch.Size([4, 8, 10]),\n",
       " torch.Size([4, 4, 20]),\n",
       " torch.Size([4, 2, 40]),\n",
       " torch.Size([4, 80]))"
      ]
     },
     "execution_count": 103,
     "metadata": {},
     "output_type": "execute_result"
    }
   ],
   "source": [
    "model.layers[0].out.shape, model.layers[0].out.view(4,4,-1).shape, model.layers[0].out.view(4,2,-1).shape, model.layers[0].out.view(4,1,-1).squeeze(1).shape"
   ]
  },
  {
   "cell_type": "code",
   "execution_count": 95,
   "id": "96e6cd88",
   "metadata": {},
   "outputs": [
    {
     "data": {
      "text/plain": [
       "torch.Size([4, 80])"
      ]
     },
     "execution_count": 95,
     "metadata": {},
     "output_type": "execute_result"
    }
   ],
   "source": [
    "model.layers[1].out.shape"
   ]
  },
  {
   "cell_type": "code",
   "execution_count": null,
   "id": "bb36ae8f",
   "metadata": {},
   "outputs": [],
   "source": [
    "# ((0,1) (2,3)) ((4,5) (6,7))"
   ]
  },
  {
   "cell_type": "code",
   "execution_count": 104,
   "id": "5fdb7b5c",
   "metadata": {},
   "outputs": [],
   "source": [
    "class FlattenConsecutive:\n",
    "    def __init__(self, n_consecutive):\n",
    "        self.n = n_consecutive\n",
    "    \n",
    "    def __call__(self, x):\n",
    "        B,T,C = x.shape\n",
    "        x = x.view(B, T//self.n, self.n*C) # flattens self.n consecutive dimensions\n",
    "        if x.shape[1] == 1:\n",
    "            x = x.squeeze(1)\n",
    "        self.out = x\n",
    "        \n",
    "        return self.out\n",
    "    \n",
    "    def parameters(self):\n",
    "        return []"
   ]
  },
  {
   "cell_type": "code",
   "execution_count": 123,
   "id": "91da265b",
   "metadata": {},
   "outputs": [],
   "source": [
    "n_consecutive = 2\n",
    "emb_dim = 10\n",
    "n_hidden = 100\n",
    "batch_size = 32"
   ]
  },
  {
   "cell_type": "code",
   "execution_count": 133,
   "id": "91deb13c",
   "metadata": {},
   "outputs": [
    {
     "name": "stdout",
     "output_type": "stream",
     "text": [
      "45897 parameters in the model\n"
     ]
    }
   ],
   "source": [
    "model = Sequential([\n",
    "    Embedding(vocab_size, emb_dim),\n",
    "    FlattenConsecutive(n_consecutive), Linear(n_consecutive * emb_dim, n_hidden), BatchNorm1d(n_hidden), Tanh(),\n",
    "    FlattenConsecutive(n_consecutive), Linear(n_consecutive * n_hidden, n_hidden), BatchNorm1d(n_hidden), Tanh(),\n",
    "    FlattenConsecutive(n_consecutive), Linear(n_consecutive * n_hidden, n_hidden), BatchNorm1d(n_hidden), Tanh(),\n",
    "    Linear(n_hidden, vocab_size),\n",
    "])\n",
    "\n",
    "with torch.no_grad():\n",
    "    for l in model.layers[:-1]:\n",
    "        if isinstance(l, Linear):\n",
    "            l.weight *= (5/3)\n",
    "\n",
    "    model.layers[-1].weight *= 0.1\n",
    "\n",
    "parameters = model.parameters() #[p for l in layers for p in l.parameters()]\n",
    "print(sum(p.numel() for p in parameters), 'parameters in the model')\n",
    "\n",
    "for p in parameters:\n",
    "    p.requires_grad = True"
   ]
  },
  {
   "cell_type": "code",
   "execution_count": null,
   "id": "111544df",
   "metadata": {},
   "outputs": [
    {
     "name": "stdout",
     "output_type": "stream",
     "text": [
      "Iteration 0 | loss = 3.2981\n"
     ]
    }
   ],
   "source": [
    "lossi = []\n",
    "for i in range(200000):\n",
    "    # mini-batch construct\n",
    "    ix = torch.randint(0, Xtr.shape[0], size=(batch_size,))\n",
    "    Xb, yb = Xtr[ix], ytr[ix]\n",
    "\n",
    "    logits = model(Xb)\n",
    "\n",
    "    loss = F.cross_entropy(logits, yb)\n",
    "    lossi.append(loss.item())\n",
    "\n",
    "    if i % 20000 == 0 or i == 0:\n",
    "        print(f'Iteration {i} | loss = {loss.item():.4f}')\n",
    "\n",
    "    for p in parameters:\n",
    "        p.grad = None\n",
    "\n",
    "    loss.backward()\n",
    "\n",
    "    # updates\n",
    "    lr = 0.1 if i < 100000 else 0.01\n",
    "    for p in parameters:\n",
    "        p.data += -(lr * p.grad)"
   ]
  },
  {
   "cell_type": "code",
   "execution_count": 140,
   "id": "140426b6",
   "metadata": {},
   "outputs": [],
   "source": [
    "# for layer in model.layers:\n",
    "#     print(f'{layer.__class__.__name__} --> {layer.out.shape}')"
   ]
  },
  {
   "cell_type": "code",
   "execution_count": 126,
   "id": "ab4bc4d8",
   "metadata": {},
   "outputs": [],
   "source": [
    "for layer in model.layers:\n",
    "    layer.training = False"
   ]
  },
  {
   "cell_type": "code",
   "execution_count": 127,
   "id": "992cb4a8",
   "metadata": {},
   "outputs": [
    {
     "name": "stdout",
     "output_type": "stream",
     "text": [
      "loss for train set: 1.8983869552612305\n",
      "loss for dev set: 2.0059220790863037\n"
     ]
    }
   ],
   "source": [
    "# evaluate loss\n",
    "\n",
    "@torch.no_grad()\n",
    "def split_loss(split):\n",
    "    x,y = {'train': (Xtr, ytr),\n",
    "           'dev':   (Xdev, ydev),\n",
    "           'test':  (Xte, yte)}[split]\n",
    "    logits = model(x)\n",
    "    loss = F.cross_entropy(logits, y)\n",
    "    print(f'loss for {split} set: {loss.item()}')\n",
    "\n",
    "split_loss('train')\n",
    "split_loss('dev')"
   ]
  },
  {
   "cell_type": "code",
   "execution_count": 131,
   "id": "a401fa28",
   "metadata": {},
   "outputs": [
    {
     "name": "stdout",
     "output_type": "stream",
     "text": [
      "abdurt.\n",
      "corey.\n",
      "sariah.\n",
      "mechai.\n",
      "aleigh.\n"
     ]
    }
   ],
   "source": [
    "# let's sample names\n",
    "\n",
    "for _ in range(5):\n",
    "    out = []\n",
    "    context = [0] * block_size\n",
    "    while True:\n",
    "        logits = model(torch.tensor([context]))\n",
    "        probs = F.softmax(logits, dim=1)\n",
    "\n",
    "        ix = torch.multinomial(probs, num_samples=1, replacement=True).item()\n",
    "\n",
    "        context = context[1:] + [ix]\n",
    "        out.append(itos[ix])\n",
    "        if ix == 0:\n",
    "            break\n",
    "    print(''.join(out))"
   ]
  },
  {
   "cell_type": "code",
   "execution_count": 137,
   "id": "fa849a7d",
   "metadata": {},
   "outputs": [],
   "source": [
    "class BatchNorm1d:\n",
    "    def __init__(self, dim, epsilon=1e-5, momentum=0.1):\n",
    "        self.dim = dim\n",
    "        self.epsilon = epsilon\n",
    "        self.training = True\n",
    "        self.momentum = momentum\n",
    "\n",
    "        self.gamma = torch.ones(self.dim)\n",
    "        self.beta = torch.zeros(self.dim)\n",
    "\n",
    "        self.running_mean = torch.zeros(dim)\n",
    "        self.running_var = torch.ones(dim)\n",
    "\n",
    "    def __call__(self, x):\n",
    "        if self.training:\n",
    "            if x.ndim == 2:\n",
    "                dim = 0\n",
    "            elif x.ndim == 3:\n",
    "                dim = (0,1)\n",
    "            xmean = x.mean(dim, keepdim=True)\n",
    "            xvar = x.var(dim, keepdim=True)\n",
    "            with torch.no_grad():\n",
    "                self.running_mean = (1-self.momentum) * self.running_mean + self.momentum * xmean\n",
    "                self.running_var = (1-self.momentum) * self.running_var + self.momentum * xvar\n",
    "        else:\n",
    "            xmean = self.running_mean\n",
    "            xvar = self.running_var\n",
    "\n",
    "        hpreact = (x-xmean) / torch.sqrt(xvar + self.epsilon)\n",
    "        self.out = self.gamma * hpreact + self.beta\n",
    "\n",
    "        return self.out\n",
    "    \n",
    "    def parameters(self):\n",
    "        return [self.gamma, self.beta]"
   ]
  },
  {
   "cell_type": "code",
   "execution_count": 148,
   "id": "ae8883c1",
   "metadata": {},
   "outputs": [
    {
     "name": "stdout",
     "output_type": "stream",
     "text": [
      "76579 parameters in the model\n"
     ]
    }
   ],
   "source": [
    "n_consecutive = 2\n",
    "emb_dim = 24\n",
    "n_hidden = 128\n",
    "batch_size = 32\n",
    "\n",
    "model = Sequential([\n",
    "    Embedding(vocab_size, emb_dim),\n",
    "    FlattenConsecutive(n_consecutive), Linear(n_consecutive * emb_dim, n_hidden, bias=False), BatchNorm1d(n_hidden), Tanh(),\n",
    "    FlattenConsecutive(n_consecutive), Linear(n_consecutive * n_hidden, n_hidden, bias=False), BatchNorm1d(n_hidden), Tanh(),\n",
    "    FlattenConsecutive(n_consecutive), Linear(n_consecutive * n_hidden, n_hidden, bias=False), BatchNorm1d(n_hidden), Tanh(),\n",
    "    Linear(n_hidden, vocab_size),\n",
    "])\n",
    "\n",
    "with torch.no_grad():\n",
    "    for l in model.layers[:-1]:\n",
    "        if isinstance(l, Linear):\n",
    "            l.weight *= (5/3)\n",
    "\n",
    "    model.layers[-1].weight *= 0.1\n",
    "\n",
    "parameters = model.parameters() #[p for l in layers for p in l.parameters()]\n",
    "print(sum(p.numel() for p in parameters), 'parameters in the model')\n",
    "\n",
    "for p in parameters:\n",
    "    p.requires_grad = True"
   ]
  },
  {
   "cell_type": "code",
   "execution_count": 149,
   "id": "72a1cdc3",
   "metadata": {},
   "outputs": [
    {
     "name": "stdout",
     "output_type": "stream",
     "text": [
      "Iteration 0 | loss = 3.2712\n",
      "Iteration 20000 | loss = 1.8511\n",
      "Iteration 40000 | loss = 2.3432\n",
      "Iteration 60000 | loss = 2.0895\n",
      "Iteration 80000 | loss = 1.9346\n",
      "Iteration 100000 | loss = 1.5553\n",
      "Iteration 120000 | loss = 1.7649\n",
      "Iteration 140000 | loss = 1.5882\n",
      "Iteration 160000 | loss = 1.7105\n",
      "Iteration 180000 | loss = 1.6481\n"
     ]
    }
   ],
   "source": [
    "lossi = []\n",
    "for i in range(200000):\n",
    "    # mini-batch construct\n",
    "    ix = torch.randint(0, Xtr.shape[0], size=(batch_size,))\n",
    "    Xb, yb = Xtr[ix], ytr[ix]\n",
    "\n",
    "    logits = model(Xb)\n",
    "\n",
    "    loss = F.cross_entropy(logits, yb)\n",
    "    lossi.append(loss.item())\n",
    "\n",
    "    if i % 20000 == 0 or i == 0:\n",
    "        print(f'Iteration {i} | loss = {loss.item():.4f}')\n",
    "\n",
    "    for p in parameters:\n",
    "        p.grad = None\n",
    "\n",
    "    loss.backward()\n",
    "\n",
    "    # updates\n",
    "    lr = 0.1 if i < 100000 else 0.01\n",
    "    for p in parameters:\n",
    "        p.data += -(lr * p.grad)"
   ]
  },
  {
   "cell_type": "code",
   "execution_count": 150,
   "id": "6b59c7cd",
   "metadata": {},
   "outputs": [],
   "source": [
    "for layer in model.layers:\n",
    "    layer.training = False"
   ]
  },
  {
   "cell_type": "code",
   "execution_count": 151,
   "id": "46c525f1",
   "metadata": {},
   "outputs": [
    {
     "name": "stdout",
     "output_type": "stream",
     "text": [
      "loss for train set: 1.7913916110992432\n",
      "loss for dev set: 1.9861246347427368\n"
     ]
    }
   ],
   "source": [
    "# evaluate loss\n",
    "\n",
    "@torch.no_grad()\n",
    "def split_loss(split):\n",
    "    x,y = {'train': (Xtr, ytr),\n",
    "           'dev':   (Xdev, ydev),\n",
    "           'test':  (Xte, yte)}[split]\n",
    "    logits = model(x)\n",
    "    loss = F.cross_entropy(logits, y)\n",
    "    print(f'loss for {split} set: {loss.item()}')\n",
    "\n",
    "split_loss('train')\n",
    "split_loss('dev')"
   ]
  },
  {
   "cell_type": "code",
   "execution_count": 155,
   "id": "84319d9e",
   "metadata": {},
   "outputs": [
    {
     "name": "stdout",
     "output_type": "stream",
     "text": [
      "mahiba.\n",
      "sydylin.\n",
      "brod.\n",
      "suhaya.\n",
      "azrika.\n"
     ]
    }
   ],
   "source": [
    "# let's sample names\n",
    "\n",
    "for _ in range(5):\n",
    "    out = []\n",
    "    context = [0] * block_size\n",
    "    while True:\n",
    "        logits = model(torch.tensor([context]))\n",
    "        probs = F.softmax(logits, dim=1)\n",
    "\n",
    "        ix = torch.multinomial(probs, num_samples=1, replacement=True).item()\n",
    "\n",
    "        context = context[1:] + [ix]\n",
    "        out.append(itos[ix])\n",
    "        if ix == 0:\n",
    "            break\n",
    "    print(''.join(out))"
   ]
  },
  {
   "cell_type": "code",
   "execution_count": null,
   "id": "b7fb331b",
   "metadata": {},
   "outputs": [],
   "source": []
  }
 ],
 "metadata": {
  "kernelspec": {
   "display_name": "torch",
   "language": "python",
   "name": "python3"
  },
  "language_info": {
   "codemirror_mode": {
    "name": "ipython",
    "version": 3
   },
   "file_extension": ".py",
   "mimetype": "text/x-python",
   "name": "python",
   "nbconvert_exporter": "python",
   "pygments_lexer": "ipython3",
   "version": "3.13.5"
  }
 },
 "nbformat": 4,
 "nbformat_minor": 5
}
