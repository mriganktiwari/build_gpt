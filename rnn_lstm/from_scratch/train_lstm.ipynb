{
 "cells": [
  {
   "cell_type": "code",
   "execution_count": null,
   "id": "83f0309e",
   "metadata": {},
   "outputs": [],
   "source": [
    "import time\n",
    "import torch.nn.functional as F\n",
    "import torch\n",
    "from lstm import MultiLayerLSTM, estimate_loss, TextLoader, generate"
   ]
  },
  {
   "cell_type": "code",
   "execution_count": null,
   "id": "c6e880cd",
   "metadata": {},
   "outputs": [],
   "source": [
    "text = open('/kaggle/input/shakespeare-text/input.txt', 'r', encoding='utf-8').read()\n",
    "loader = TextLoader(text)\n",
    "\n",
    "# reduce dims a little if you want faster iteration\n",
    "n_embd = 384   # try 384 or 512\n",
    "n_hidden = 384\n",
    "device = 'cuda' if torch.cuda.is_available() else 'cpu'\n",
    "batch_size = 64\n",
    "block_size = 128\n",
    "\n",
    "model = MultiLayerLSTM(loader.vocab_size, input_embd=n_embd, hidden_embd=n_hidden, layers=2, dropout=0.3)\n",
    "model.to(device)\n",
    "print(f'{sum(p.numel() for p in model.parameters()) / 1e6:.3f} MIL params')\n",
    "\n",
    "optim = torch.optim.AdamW(model.parameters(), lr=3e-4, weight_decay=1e-2)\n",
    "max_iters = 20000\n",
    "patience = 20\n",
    "best_val_loss = float('inf')\n",
    "epochs_no_improve = 0"
   ]
  },
  {
   "cell_type": "code",
   "execution_count": null,
   "id": "6ce9f06b",
   "metadata": {},
   "outputs": [],
   "source": [
    "for i in range(max_iters):\n",
    "    x, y = loader.get_batch('train', batch_size=batch_size, block_size=block_size, device=device)\n",
    "    B,T = x.shape\n",
    "\n",
    "    logits = model(x)\n",
    "    loss = F.cross_entropy(logits.view(B*T, -1), y.view(B*T))\n",
    "\n",
    "    optim.zero_grad()\n",
    "    loss.backward()\n",
    "    # gradient clipping\n",
    "    torch.nn.utils.clip_grad_norm_(model.parameters(), 1.0)\n",
    "    optim.step()\n",
    "\n",
    "    if i % 200 == 0:\n",
    "        with torch.no_grad():\n",
    "            x_val, y_val = loader.get_batch('val', batch_size=512, block_size=block_size, device=device)\n",
    "            logits_val = model(x_val)\n",
    "            val_loss = F.cross_entropy(logits_val.view(-1, loader.vocab_size), y_val.view(-1))\n",
    "        if val_loss < best_val_loss - 1e-4:\n",
    "            best_val_loss = val_loss\n",
    "            epochs_no_improve = 0\n",
    "        else:\n",
    "            epochs_no_improve += 1\n",
    "\n",
    "        print(f'Iter {i} | train loss = {loss.item():.4f} | val loss = {val_loss.item():.4f}')\n",
    "        # if i % 1000 == 0:\n",
    "        #     generate(model, loader.stoi, loader.itos, block_size=block_size, prompt=\"ROMEO:\", device=device, max_new_tokens=200)\n",
    "\n",
    "    if epochs_no_improve > patience:\n",
    "        print(f'Early stopping at iter {i}. Best val loss = {best_val_loss:.4f}')\n",
    "        break"
   ]
  },
  {
   "cell_type": "code",
   "execution_count": null,
   "id": "be64fc70",
   "metadata": {},
   "outputs": [],
   "source": [
    "generate(model, loader.stoi, loader.itos, block_size=block_size, device='cuda', max_new_tokens=500)"
   ]
  }
 ],
 "metadata": {
  "kernelspec": {
   "display_name": "torch",
   "language": "python",
   "name": "python3"
  },
  "language_info": {
   "codemirror_mode": {
    "name": "ipython",
    "version": 3
   },
   "file_extension": ".py",
   "mimetype": "text/x-python",
   "name": "python",
   "nbconvert_exporter": "python",
   "pygments_lexer": "ipython3",
   "version": "3.12.11"
  }
 },
 "nbformat": 4,
 "nbformat_minor": 5
}
