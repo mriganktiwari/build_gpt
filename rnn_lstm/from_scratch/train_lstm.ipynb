{
 "cells": [
  {
   "cell_type": "code",
   "execution_count": 1,
   "id": "83f0309e",
   "metadata": {},
   "outputs": [],
   "source": [
    "import time\n",
    "import torch.nn.functional as F\n",
    "import torch\n",
    "from rnn_lstm.lstm import MultiLayerLSTM, estimate_loss, TextLoader"
   ]
  },
  {
   "cell_type": "code",
   "execution_count": 2,
   "id": "c6e880cd",
   "metadata": {},
   "outputs": [],
   "source": [
    "text = open('gpt/input.txt', 'r').read()\n",
    "loader = TextLoader.from_text(text)"
   ]
  },
  {
   "cell_type": "code",
   "execution_count": 3,
   "id": "6ce9f06b",
   "metadata": {},
   "outputs": [
    {
     "name": "stdout",
     "output_type": "stream",
     "text": [
      "20865 parameters\n"
     ]
    }
   ],
   "source": [
    "device = 'mps'\n",
    "model = MultiLayerLSTM(loader.vocab_size, n_layers=2, input_size=32, hidden_size=32, dropout=0.5)\n",
    "params = model.parameters()\n",
    "print(f'{sum(p.numel() for p in params)} parameters')\n",
    "model = model.to(device)\n",
    "for p in params:\n",
    "    p.requires_grad = True"
   ]
  },
  {
   "cell_type": "code",
   "execution_count": 4,
   "id": "3d0345fb",
   "metadata": {},
   "outputs": [
    {
     "name": "stdout",
     "output_type": "stream",
     "text": [
      "Iteration 0 train loss = 4.1744 | val loss = 4.1744 | Gradient norm: 0.5913\n"
     ]
    }
   ],
   "source": [
    "max_iters = 1\n",
    "batch_size = 32\n",
    "block_size = 128\n",
    "eval_interval = 1000\n",
    "\n",
    "for iter in range(max_iters):\n",
    "        xb, yb = loader.get_batch('train', batch_size=batch_size, block_size=block_size)\n",
    "        xb, yb = xb.to(device), yb.to(device)\n",
    "        logits = model(xb)\n",
    "\n",
    "        loss = F.cross_entropy(logits.view(-1, loader.vocab_size), yb.view(-1), ignore_index=-1)\n",
    "\n",
    "        # zero the gradients\n",
    "        for p in model.parameters():\n",
    "            p.grad = None\n",
    "\n",
    "        loss.backward()\n",
    "        \n",
    "        # print loss\n",
    "        if iter % eval_interval == 0:\n",
    "            losses = estimate_loss(model, loader, device)\n",
    "            total_norm = torch.sqrt(sum((p.grad**2).sum() for p in model.parameters() if p.grad is not None))\n",
    "            print(f'Iteration {iter} train loss = {losses[\"train\"]:.4f} | val loss = {losses[\"val\"]:.4f} | Gradient norm: {total_norm:.4f}')\n",
    "        \n",
    "        # weights update\n",
    "        lr = 1e-1 if iter < 20000 else 1e-2\n",
    "        for p in model.parameters():\n",
    "            p.data += -(lr * p.grad)\n"
   ]
  },
  {
   "cell_type": "code",
   "execution_count": 5,
   "id": "179bde90",
   "metadata": {},
   "outputs": [
    {
     "name": "stdout",
     "output_type": "stream",
     "text": [
      ";,JuBF-gB'EIsBehr;rxL-HHDR-!w'v z 3g$?Op\n",
      "rMDKx'TZtst?dYFGZllDaOJAtpiMdF.y'Sm\n",
      "?nRmIM&WuulVLEnoF:NmcrVNO;ov FHqjgUrBBsBhQiQjfaJEN?\n"
     ]
    }
   ],
   "source": [
    "def generate(model, loader, prompt=None, device=device, max_new_tokens=200):\n",
    "    with torch.no_grad():\n",
    "        model.eval()\n",
    "        if not prompt:\n",
    "            idx = torch.tensor([[0]], dtype=torch.long, device=device)\n",
    "        # else:\n",
    "        #     prompt_tokens = loader.encode(prompt)\n",
    "        #     idx = torch.tensor([prompt_tokens], dtype=torch.long, device=device)\n",
    "        batch_size = 1\n",
    "        generated_tokens = []\n",
    "        \n",
    "        for _ in range(max_new_tokens):\n",
    "            if idx.shape[1] > loader.block_size:\n",
    "                idx = idx[:, -loader.block_size:] # (b,T)\n",
    "            \n",
    "            logits = model(idx) # (b,T,vocab_size)\n",
    "            logits = logits[0][-1] # (vocab_size,) vector from last time step\n",
    "            probs = F.softmax(logits, dim=-1)\n",
    "            \n",
    "            next_idx = torch.multinomial(probs, 1).item()\n",
    "            idx = torch.cat([idx, torch.tensor([[next_idx]], device=device)], dim=1)\n",
    "        \n",
    "        print(''.join([loader.itos[i.item()] for i in idx[0][1:]]))\n",
    "        model.train()\n",
    "        \n",
    "generate(model, loader)"
   ]
  }
 ],
 "metadata": {
  "kernelspec": {
   "display_name": "torch",
   "language": "python",
   "name": "python3"
  },
  "language_info": {
   "codemirror_mode": {
    "name": "ipython",
    "version": 3
   },
   "file_extension": ".py",
   "mimetype": "text/x-python",
   "name": "python",
   "nbconvert_exporter": "python",
   "pygments_lexer": "ipython3",
   "version": "3.12.11"
  }
 },
 "nbformat": 4,
 "nbformat_minor": 5
}
