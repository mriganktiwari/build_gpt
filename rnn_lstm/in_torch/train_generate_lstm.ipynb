{
 "cells": [
  {
   "cell_type": "code",
   "execution_count": null,
   "id": "eb6fc9f1",
   "metadata": {},
   "outputs": [],
   "source": [
    "import torch\n",
    "import torch.nn.functional as F\n",
    "import time\n",
    "\n",
    "from text_loader import CharDataset #, TextLoader\n",
    "from torch.utils.data import DataLoader\n",
    "from lstm import CharLSTM, generate\n",
    "\n",
    "# ---------------------------------------------\n",
    "# data prep\n",
    "text = open('../data/pg_essays.txt', 'r').read()\n",
    "# print(text[:500])\n",
    "\n",
    "batch_size = 2\n",
    "block_size = 8\n",
    "\n",
    "base_ds = CharDataset(text, block_size)\n",
    "ds_train = base_ds.split('train')\n",
    "ds_val = base_ds.split('val')\n",
    "\n",
    "# pin_memory = torch.cuda.is_available()\n",
    "loader_train = DataLoader(ds_train, batch_size=batch_size, shuffle=True, pin_memory=True, num_workers=4, drop_last=True)\n",
    "loader_val = DataLoader(ds_val, batch_size=1000, shuffle=True, pin_memory=True, num_workers=4, drop_last=True)\n",
    "\n",
    "# ------------------------------------------------------------\n",
    "device = 'mps'\n",
    "model = CharLSTM(ds_train.vocab_size, emb=64, hidden=64, layers=2)\n",
    "print(f'{(sum(p.numel() for p in model.parameters()) / 1e6):.4f} Mil parameters')\n",
    "model = model.to(device)\n",
    "\n",
    "optimizer = torch.optim.AdamW(model.parameters(), lr=1e-3)\n"
   ]
  },
  {
   "cell_type": "code",
   "execution_count": null,
   "id": "d1e5e34e",
   "metadata": {},
   "outputs": [],
   "source": [
    "max_iters = 20000\n",
    "patience = 20\n",
    "best_val_loss = float('inf')\n",
    "epochs_no_improve = 0\n",
    "\n",
    "for i in range(max_iters):\n",
    "    t0 = time.time()\n",
    "    xb,yb = next(iter(loader_train))\n",
    "    xb,yb = xb.to(device), yb.to(device)\n",
    "\n",
    "    logits,_ = model(xb)\n",
    "    loss = F.cross_entropy(logits.view(-1, ds_train.vocab_size), yb.view(-1))\n",
    "\n",
    "    optimizer.zero_grad()\n",
    "\n",
    "    loss.backward()\n",
    "\n",
    "    optimizer.step()\n",
    "    # t1 = time.time()\n",
    "    # print(f'time for {i}th epoch: {(t1-t0):.2f} seconds')\n",
    "\n",
    "    # validation\n",
    "    with torch.no_grad():\n",
    "        x_val, y_val = next(iter(loader_val))\n",
    "        x_val, y_val = x_val.to(device), y_val.to(device)\n",
    "        logits,_ = model(x_val)\n",
    "        val_loss = F.cross_entropy(logits.view(-1, ds_train.vocab_size), y_val.view(-1))\n",
    "    # early-stopping\n",
    "    if val_loss < best_val_loss - 1e-4: # small delta to be considered\n",
    "        best_val_loss = val_loss\n",
    "        epochs_no_improve = 0\n",
    "        torch.save(\n",
    "            {\n",
    "                'model_state': model.state_dict(),\n",
    "                'optimizer_state': optimizer.state_dict(),\n",
    "                'vocab': ds_train.vocab,\n",
    "            },\n",
    "            \"models/char_lstm_pg.pt\"\n",
    "        )\n",
    "    else:\n",
    "        epochs_no_improve += 1\n",
    "    if epochs_no_improve > patience:\n",
    "        print(f'Eearly stop @ epoch {i}. \\nBest validation loss = {best_val_loss:.4f}')\n",
    "        break\n",
    "    \n",
    "    if i % 250 == 0:\n",
    "        print(f'Iter {i}, train loss = {loss.item():.4f} | val loss = {val_loss.item():.4f}') #| best_val_loss = {best_val_loss}')\n",
    "    t1 = time.time()\n",
    "    print(f'time for {i}th epoch: {(t1-t0):.2f} seconds')"
   ]
  },
  {
   "cell_type": "code",
   "execution_count": null,
   "id": "3e45f750",
   "metadata": {},
   "outputs": [],
   "source": [
    "checkpoint = torch.load('models/char_lstm_best_model.pt', map_location=device)\n",
    "print(checkpoint.keys())"
   ]
  },
  {
   "cell_type": "code",
   "execution_count": null,
   "id": "16a7735f",
   "metadata": {},
   "outputs": [],
   "source": [
    "print(checkpoint['vocab'])\n",
    "\n",
    "vocab = checkpoint[\"vocab\"]\n",
    "stoi  = {c: i for i, c in enumerate(vocab)}\n",
    "itos  = {i: c for c, i in stoi.items()}"
   ]
  },
  {
   "cell_type": "code",
   "execution_count": null,
   "id": "a5da019a",
   "metadata": {},
   "outputs": [],
   "source": [
    "# --- rebuild model -------------------------------\n",
    "model = CharLSTM(len(vocab), emb=256, hidden=256,\n",
    "                 layers=2, dropout=0.5).to(device)\n",
    "model.load_state_dict(checkpoint[\"model_state\"])\n",
    "model.eval()"
   ]
  },
  {
   "cell_type": "code",
   "execution_count": null,
   "id": "10c3cc34",
   "metadata": {},
   "outputs": [],
   "source": [
    "# --- rebuild optimizer (optional) ---------------------------------------\n",
    "optimizer = torch.optim.AdamW(model.parameters(), lr=3e-4)\n",
    "optimizer.load_state_dict(checkpoint[\"optimizer_state\"])"
   ]
  },
  {
   "cell_type": "code",
   "execution_count": null,
   "id": "2f881429",
   "metadata": {},
   "outputs": [],
   "source": [
    "generate(model, ds_train.stoi, ds_train.itos, block_size=block_size, device='mps', max_new_tokens=500)"
   ]
  },
  {
   "cell_type": "code",
   "execution_count": null,
   "id": "c6e6e26c",
   "metadata": {},
   "outputs": [],
   "source": []
  }
 ],
 "metadata": {
  "kernelspec": {
   "display_name": "torch",
   "language": "python",
   "name": "python3"
  },
  "language_info": {
   "codemirror_mode": {
    "name": "ipython",
    "version": 3
   },
   "file_extension": ".py",
   "mimetype": "text/x-python",
   "name": "python",
   "nbconvert_exporter": "python",
   "pygments_lexer": "ipython3",
   "version": "3.12.11"
  }
 },
 "nbformat": 4,
 "nbformat_minor": 5
}
